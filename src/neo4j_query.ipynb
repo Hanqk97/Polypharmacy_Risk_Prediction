{
 "cells": [
  {
   "cell_type": "code",
   "execution_count": null,
   "metadata": {},
   "outputs": [
    {
     "name": "stdout",
     "output_type": "stream",
     "text": [
      "\n",
      "Top Polypharmacy Risks:\n",
      "1. Oxazepam + Sodium Chloride → Wrong technique in drug usage process (PRR: 10.0)\n",
      "2. Sodium Chloride + Oxazepam → Wrong technique in drug usage process (PRR: 10.0)\n",
      "3. Oxazepam + Aspirin → GI Bleeding (PRR: 8.5)\n"
     ]
    }
   ],
   "source": [
    "# from neo4j import GraphDatabase\n",
    "\n",
    "# # Neo4j connection parameters\n",
    "# NEO4J_URI = \"bolt://localhost:7687\"\n",
    "# NEO4J_USER = \"neo4j\"\n",
    "# NEO4J_PASSWORD = \"12345678\"  # Update to match your Neo4j credentials\n",
    "\n",
    "# class PolypharmacyRiskQuery:\n",
    "#     def __init__(self, uri, user, password):\n",
    "#         self.driver = GraphDatabase.driver(uri, auth=(user, password))\n",
    "\n",
    "#     def close(self):\n",
    "#         self.driver.close()\n",
    "\n",
    "#     def query_polypharmacy_risk(self, drug_list, k):\n",
    "#         \"\"\"\n",
    "#         Query Neo4j for the top-k highest risk polypharmacy interactions among the given drugs.\n",
    "#         :param drug_list: List of drugs input by the user.\n",
    "#         :param k: Number of top interactions to return.\n",
    "#         :return: List of tuples (Drug1, Drug2, Condition, PRR)\n",
    "#         \"\"\"\n",
    "#         query = \"\"\"\n",
    "#         MATCH (d1:Drug)-[r:INTERACT_WITH]-(d2:Drug)\n",
    "#         WHERE d1.name IN $drug_list AND d2.name IN $drug_list\n",
    "#         AND d1 <> d2\n",
    "#         RETURN d1.name AS Drug1, d2.name AS Drug2, \n",
    "#                r.adverseEvent AS Condition, r.PRR AS Risk\n",
    "#         ORDER BY r.PRR DESC\n",
    "#         LIMIT $k\n",
    "#         \"\"\"\n",
    "#         with self.driver.session() as session:\n",
    "#             result = session.run(query, drug_list=drug_list, k=int(k))  # Ensure k is an integer\n",
    "#             return result.data()\n",
    "\n",
    "\n"
   ]
  }
 ],
 "metadata": {
  "kernelspec": {
   "display_name": "polypharmacy",
   "language": "python",
   "name": "python3"
  },
  "language_info": {
   "codemirror_mode": {
    "name": "ipython",
    "version": 3
   },
   "file_extension": ".py",
   "mimetype": "text/x-python",
   "name": "python",
   "nbconvert_exporter": "python",
   "pygments_lexer": "ipython3",
   "version": "3.9.21"
  }
 },
 "nbformat": 4,
 "nbformat_minor": 2
}
