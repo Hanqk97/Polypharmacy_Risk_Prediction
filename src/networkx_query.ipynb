{
 "cells": [
  {
   "cell_type": "code",
   "execution_count": 18,
   "metadata": {},
   "outputs": [],
   "source": [
    "import networkx as nx\n",
    "import json\n",
    "\n",
    "def load_multigraph(graph_json_path):\n",
    "    \"\"\"\n",
    "    Loads the saved MultiGraph from a JSON file.\n",
    "    \n",
    "    :param graph_json_path: Path to the saved graph JSON file.\n",
    "    :return: NetworkX MultiGraph object.\n",
    "    \"\"\"\n",
    "    with open(graph_json_path, \"r\") as f:\n",
    "        data = json.load(f)\n",
    "    return nx.node_link_graph(data)\n",
    "\n",
    "def query_polypharmacy_risk(graph_json_path, drug_list, k):\n",
    "    \"\"\"\n",
    "    Queries the graph to find the top-k highest-risk polypharmacy interactions for each drug pair.\n",
    "    \n",
    "    :param graph_json_path: Path to the saved graph JSON file.\n",
    "    :param drug_list: List of drugs input by the user.\n",
    "    :param k: Number of top interactions to return for each drug pair.\n",
    "    :return: Dictionary with drug pairs as keys and top-k interactions as values.\n",
    "    \"\"\"\n",
    "    # Load the graph\n",
    "    G = load_multigraph(graph_json_path)\n",
    "\n",
    "    results = {}\n",
    "\n",
    "    # Find interactions within the user's drug list\n",
    "    for d1 in drug_list:\n",
    "        for d2 in drug_list:\n",
    "            if d1 < d2 and G.has_edge(d1, d2):  # Ensure unique order for pairs\n",
    "                pair_results = []\n",
    "\n",
    "                # Iterate through all hyper-relations between (d1, d2)\n",
    "                for _, edge_data in G.get_edge_data(d1, d2).items():\n",
    "                    pair_results.append((d1, d2, edge_data[\"adverseEvent\"], edge_data[\"PRR\"]))\n",
    "\n",
    "                # Sort by PRR in descending order and take the top k\n",
    "                pair_results = sorted(pair_results, key=lambda x: x[3], reverse=True)[:k]\n",
    "\n",
    "                if pair_results:\n",
    "                    results[(d1, d2)] = pair_results\n",
    "\n",
    "    return results\n",
    "\n"
   ]
  },
  {
   "cell_type": "code",
   "execution_count": 21,
   "metadata": {},
   "outputs": [
    {
     "name": "stdout",
     "output_type": "stream",
     "text": [
      "\n",
      "Top Polypharmacy Risks:\n",
      "\n",
      "Temazepam + sildenafil:\n",
      "  1. Temazepam + sildenafil → Economic problem (PRR: 50.0)\n",
      "  2. Temazepam + sildenafil → Obesity (PRR: 40.0)\n",
      "  3. Temazepam + sildenafil → Hypoxia (PRR: 26.6667)\n",
      "  4. Temazepam + sildenafil → Haematochezia (PRR: 20.0)\n",
      "  5. Temazepam + sildenafil → Osteonecrosis of jaw (PRR: 20.0)\n",
      "\n",
      "Cyclophosphamide + zopiclone:\n",
      "  1. Cyclophosphamide + zopiclone → Neutropenic sepsis (PRR: 50.0)\n",
      "  2. Cyclophosphamide + zopiclone → Toxic epidermal necrolysis (PRR: 40.0)\n",
      "  3. Cyclophosphamide + zopiclone → Metastases to bone (PRR: 40.0)\n",
      "  4. Cyclophosphamide + zopiclone → Febrile neutropenia (PRR: 30.0)\n",
      "  5. Cyclophosphamide + zopiclone → Colitis ischaemic (PRR: 30.0)\n"
     ]
    }
   ],
   "source": [
    "if __name__ == \"__main__\":\n",
    "    graph_json_path = \"../output/test/graph/polypharmacy_multigraph.json\"  \n",
    "    user_drugs = [\"Temazepam\", \"sildenafil\", \"Prednisone\", \"Cyclophosphamide\", \"zopiclone\"] # List of drugs\n",
    "    top_k = 5  \n",
    "\n",
    "    risks = query_polypharmacy_risk(graph_json_path, user_drugs, top_k)\n",
    "\n",
    "    print(\"\\nTop Polypharmacy Risks:\")\n",
    "    for (drug1, drug2), interactions in risks.items():\n",
    "        print(f\"\\n{drug1} + {drug2}:\")\n",
    "        for idx, (_, _, condition, prr) in enumerate(interactions, 1):\n",
    "            print(f\"  {idx}. {drug1} + {drug2} → {condition} (PRR: {prr})\")"
   ]
  }
 ],
 "metadata": {
  "kernelspec": {
   "display_name": "polypharmacy",
   "language": "python",
   "name": "python3"
  },
  "language_info": {
   "codemirror_mode": {
    "name": "ipython",
    "version": 3
   },
   "file_extension": ".py",
   "mimetype": "text/x-python",
   "name": "python",
   "nbconvert_exporter": "python",
   "pygments_lexer": "ipython3",
   "version": "3.9.21"
  }
 },
 "nbformat": 4,
 "nbformat_minor": 2
}
